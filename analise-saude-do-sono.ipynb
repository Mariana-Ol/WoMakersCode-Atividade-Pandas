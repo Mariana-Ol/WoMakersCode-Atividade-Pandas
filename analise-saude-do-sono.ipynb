{
 "cells": [
  {
   "cell_type": "code",
   "execution_count": 10,
   "metadata": {},
   "outputs": [],
   "source": [
    "import pandas as pd\n",
    "import numpy as np"
   ]
  },
  {
   "cell_type": "code",
   "execution_count": 2,
   "metadata": {},
   "outputs": [
    {
     "data": {
      "text/html": [
       "<div>\n",
       "<style scoped>\n",
       "    .dataframe tbody tr th:only-of-type {\n",
       "        vertical-align: middle;\n",
       "    }\n",
       "\n",
       "    .dataframe tbody tr th {\n",
       "        vertical-align: top;\n",
       "    }\n",
       "\n",
       "    .dataframe thead th {\n",
       "        text-align: right;\n",
       "    }\n",
       "</style>\n",
       "<table border=\"1\" class=\"dataframe\">\n",
       "  <thead>\n",
       "    <tr style=\"text-align: right;\">\n",
       "      <th></th>\n",
       "      <th>ID</th>\n",
       "      <th>Gênero</th>\n",
       "      <th>Idade</th>\n",
       "      <th>Ocupação</th>\n",
       "      <th>Duração do sono</th>\n",
       "      <th>Qualidade do sono</th>\n",
       "      <th>Nível de atividade física</th>\n",
       "      <th>Nível de estresse</th>\n",
       "      <th>Categoria BMI</th>\n",
       "      <th>Pressão sanguíneaaaa</th>\n",
       "      <th>Frequência cardíaca</th>\n",
       "      <th>Passos diários</th>\n",
       "      <th>Distúrbio do sono</th>\n",
       "    </tr>\n",
       "  </thead>\n",
       "  <tbody>\n",
       "    <tr>\n",
       "      <th>0</th>\n",
       "      <td>1</td>\n",
       "      <td>Homem</td>\n",
       "      <td>27</td>\n",
       "      <td>Eng. de Software</td>\n",
       "      <td>6.1</td>\n",
       "      <td>6</td>\n",
       "      <td>42</td>\n",
       "      <td>6</td>\n",
       "      <td>Sobrepeso</td>\n",
       "      <td>126/83</td>\n",
       "      <td>77</td>\n",
       "      <td>4200</td>\n",
       "      <td>Nenhuma</td>\n",
       "    </tr>\n",
       "    <tr>\n",
       "      <th>1</th>\n",
       "      <td>2</td>\n",
       "      <td>Homem</td>\n",
       "      <td>28</td>\n",
       "      <td>Médico(a)</td>\n",
       "      <td>6.2</td>\n",
       "      <td>6</td>\n",
       "      <td>60</td>\n",
       "      <td>8</td>\n",
       "      <td>Normal</td>\n",
       "      <td>125/80</td>\n",
       "      <td>75</td>\n",
       "      <td>10000</td>\n",
       "      <td>Nenhuma</td>\n",
       "    </tr>\n",
       "    <tr>\n",
       "      <th>2</th>\n",
       "      <td>3</td>\n",
       "      <td>Homem</td>\n",
       "      <td>28</td>\n",
       "      <td>Médico(a)</td>\n",
       "      <td>6.2</td>\n",
       "      <td>6</td>\n",
       "      <td>60</td>\n",
       "      <td>8</td>\n",
       "      <td>Normal</td>\n",
       "      <td>125/80</td>\n",
       "      <td>75</td>\n",
       "      <td>10000</td>\n",
       "      <td>Nenhuma</td>\n",
       "    </tr>\n",
       "    <tr>\n",
       "      <th>3</th>\n",
       "      <td>4</td>\n",
       "      <td>Homem</td>\n",
       "      <td>28</td>\n",
       "      <td>Representante de Vendas</td>\n",
       "      <td>5.9</td>\n",
       "      <td>4</td>\n",
       "      <td>30</td>\n",
       "      <td>8</td>\n",
       "      <td>Obesidade</td>\n",
       "      <td>140/90</td>\n",
       "      <td>85</td>\n",
       "      <td>3000</td>\n",
       "      <td>Apneia do sono</td>\n",
       "    </tr>\n",
       "    <tr>\n",
       "      <th>4</th>\n",
       "      <td>5</td>\n",
       "      <td>Homem</td>\n",
       "      <td>28</td>\n",
       "      <td>Representante de Vendas</td>\n",
       "      <td>5.9</td>\n",
       "      <td>4</td>\n",
       "      <td>30</td>\n",
       "      <td>8</td>\n",
       "      <td>Obesidade</td>\n",
       "      <td>140/90</td>\n",
       "      <td>85</td>\n",
       "      <td>3000</td>\n",
       "      <td>Apneia do sono</td>\n",
       "    </tr>\n",
       "  </tbody>\n",
       "</table>\n",
       "</div>"
      ],
      "text/plain": [
       "   ID Gênero  Idade                 Ocupação  Duração do sono  \\\n",
       "0   1  Homem     27         Eng. de Software              6.1   \n",
       "1   2  Homem     28                Médico(a)              6.2   \n",
       "2   3  Homem     28                Médico(a)              6.2   \n",
       "3   4  Homem     28  Representante de Vendas              5.9   \n",
       "4   5  Homem     28  Representante de Vendas              5.9   \n",
       "\n",
       "   Qualidade do sono  Nível de atividade física  Nível de estresse  \\\n",
       "0                  6                         42                  6   \n",
       "1                  6                         60                  8   \n",
       "2                  6                         60                  8   \n",
       "3                  4                         30                  8   \n",
       "4                  4                         30                  8   \n",
       "\n",
       "  Categoria BMI Pressão sanguíneaaaa  Frequência cardíaca  Passos diários  \\\n",
       "0     Sobrepeso               126/83                   77            4200   \n",
       "1        Normal               125/80                   75           10000   \n",
       "2        Normal               125/80                   75           10000   \n",
       "3     Obesidade               140/90                   85            3000   \n",
       "4     Obesidade               140/90                   85            3000   \n",
       "\n",
       "  Distúrbio do sono  \n",
       "0           Nenhuma  \n",
       "1           Nenhuma  \n",
       "2           Nenhuma  \n",
       "3    Apneia do sono  \n",
       "4    Apneia do sono  "
      ]
     },
     "execution_count": 2,
     "metadata": {},
     "output_type": "execute_result"
    }
   ],
   "source": [
    "df = pd.read_csv('saude_do_sono_estilo_vida.csv')\n",
    "df.head()"
   ]
  },
  {
   "cell_type": "code",
   "execution_count": 3,
   "metadata": {},
   "outputs": [
    {
     "data": {
      "text/plain": [
       "(373, 13)"
      ]
     },
     "execution_count": 3,
     "metadata": {},
     "output_type": "execute_result"
    }
   ],
   "source": [
    "df.shape"
   ]
  },
  {
   "cell_type": "code",
   "execution_count": 4,
   "metadata": {},
   "outputs": [
    {
     "name": "stdout",
     "output_type": "stream",
     "text": [
      "<class 'pandas.core.frame.DataFrame'>\n",
      "RangeIndex: 373 entries, 0 to 372\n",
      "Data columns (total 13 columns):\n",
      " #   Column                     Non-Null Count  Dtype  \n",
      "---  ------                     --------------  -----  \n",
      " 0   ID                         373 non-null    int64  \n",
      " 1   Gênero                     373 non-null    object \n",
      " 2   Idade                      373 non-null    int64  \n",
      " 3   Ocupação                   373 non-null    object \n",
      " 4   Duração do sono            373 non-null    float64\n",
      " 5   Qualidade do sono          373 non-null    int64  \n",
      " 6   Nível de atividade física  373 non-null    int64  \n",
      " 7   Nível de estresse          373 non-null    int64  \n",
      " 8   Categoria BMI              373 non-null    object \n",
      " 9   Pressão sanguíneaaaa       373 non-null    object \n",
      " 10  Frequência cardíaca        373 non-null    int64  \n",
      " 11  Passos diários             373 non-null    int64  \n",
      " 12  Distúrbio do sono          373 non-null    object \n",
      "dtypes: float64(1), int64(7), object(5)\n",
      "memory usage: 38.0+ KB\n"
     ]
    }
   ],
   "source": [
    "df.info() #Verificando os tipos dos dados e se há dados nulos. Conclusão: não há dados nulos!"
   ]
  },
  {
   "cell_type": "markdown",
   "metadata": {},
   "source": [
    "## Passo 1\n",
    "Ao visualizar a base você percebeu que seria melhor alterar o nome de algumas colunas. Mude o ‘ID’ para ‘Identificador’, corrija o nome da coluna que indica a pressão sanguínea, mude a coluna ‘Ocupação’ para ‘Profissão’, a coluna ‘Categoria BMI’ está em parte em inglês, substitua para ‘Categoria IMC’."
   ]
  },
  {
   "cell_type": "code",
   "execution_count": 5,
   "metadata": {},
   "outputs": [],
   "source": [
    "colunas_renomeadas = {'ID': 'Identificador', 'Ocupação':'Profissão', 'Categoria BMI':'Categoria IMC', 'Pressão sanguíneaaaa':'Pressão sanguínea'}"
   ]
  },
  {
   "cell_type": "code",
   "execution_count": 6,
   "metadata": {},
   "outputs": [],
   "source": [
    "df.rename(columns=colunas_renomeadas, inplace=True)"
   ]
  },
  {
   "cell_type": "code",
   "execution_count": 7,
   "metadata": {},
   "outputs": [
    {
     "data": {
      "text/html": [
       "<div>\n",
       "<style scoped>\n",
       "    .dataframe tbody tr th:only-of-type {\n",
       "        vertical-align: middle;\n",
       "    }\n",
       "\n",
       "    .dataframe tbody tr th {\n",
       "        vertical-align: top;\n",
       "    }\n",
       "\n",
       "    .dataframe thead th {\n",
       "        text-align: right;\n",
       "    }\n",
       "</style>\n",
       "<table border=\"1\" class=\"dataframe\">\n",
       "  <thead>\n",
       "    <tr style=\"text-align: right;\">\n",
       "      <th></th>\n",
       "      <th>Identificador</th>\n",
       "      <th>Gênero</th>\n",
       "      <th>Idade</th>\n",
       "      <th>Profissão</th>\n",
       "      <th>Duração do sono</th>\n",
       "      <th>Qualidade do sono</th>\n",
       "      <th>Nível de atividade física</th>\n",
       "      <th>Nível de estresse</th>\n",
       "      <th>Categoria IMC</th>\n",
       "      <th>Pressão sanguínea</th>\n",
       "      <th>Frequência cardíaca</th>\n",
       "      <th>Passos diários</th>\n",
       "      <th>Distúrbio do sono</th>\n",
       "    </tr>\n",
       "  </thead>\n",
       "  <tbody>\n",
       "    <tr>\n",
       "      <th>0</th>\n",
       "      <td>1</td>\n",
       "      <td>Homem</td>\n",
       "      <td>27</td>\n",
       "      <td>Eng. de Software</td>\n",
       "      <td>6.1</td>\n",
       "      <td>6</td>\n",
       "      <td>42</td>\n",
       "      <td>6</td>\n",
       "      <td>Sobrepeso</td>\n",
       "      <td>126/83</td>\n",
       "      <td>77</td>\n",
       "      <td>4200</td>\n",
       "      <td>Nenhuma</td>\n",
       "    </tr>\n",
       "    <tr>\n",
       "      <th>1</th>\n",
       "      <td>2</td>\n",
       "      <td>Homem</td>\n",
       "      <td>28</td>\n",
       "      <td>Médico(a)</td>\n",
       "      <td>6.2</td>\n",
       "      <td>6</td>\n",
       "      <td>60</td>\n",
       "      <td>8</td>\n",
       "      <td>Normal</td>\n",
       "      <td>125/80</td>\n",
       "      <td>75</td>\n",
       "      <td>10000</td>\n",
       "      <td>Nenhuma</td>\n",
       "    </tr>\n",
       "  </tbody>\n",
       "</table>\n",
       "</div>"
      ],
      "text/plain": [
       "   Identificador Gênero  Idade         Profissão  Duração do sono  \\\n",
       "0              1  Homem     27  Eng. de Software              6.1   \n",
       "1              2  Homem     28         Médico(a)              6.2   \n",
       "\n",
       "   Qualidade do sono  Nível de atividade física  Nível de estresse  \\\n",
       "0                  6                         42                  6   \n",
       "1                  6                         60                  8   \n",
       "\n",
       "  Categoria IMC Pressão sanguínea  Frequência cardíaca  Passos diários  \\\n",
       "0     Sobrepeso            126/83                   77            4200   \n",
       "1        Normal            125/80                   75           10000   \n",
       "\n",
       "  Distúrbio do sono  \n",
       "0           Nenhuma  \n",
       "1           Nenhuma  "
      ]
     },
     "execution_count": 7,
     "metadata": {},
     "output_type": "execute_result"
    }
   ],
   "source": [
    "df.head(2)"
   ]
  },
  {
   "cell_type": "markdown",
   "metadata": {},
   "source": [
    "## Passo 2\n",
    "Qual é a média, a moda e a mediana de horas de sono para cada uma das profissões?"
   ]
  },
  {
   "cell_type": "code",
   "execution_count": 8,
   "metadata": {},
   "outputs": [
    {
     "data": {
      "text/plain": [
       "Profissão\n",
       "Advogado(a)                7.410638\n",
       "Cientista                  6.000000\n",
       "Contador(a)                7.113514\n",
       "Enfermeiro(a)              7.048611\n",
       "Eng. de Software           6.750000\n",
       "Engenheiro(a)              7.987302\n",
       "Gerente                    6.900000\n",
       "Médico(a)                  6.970423\n",
       "Pessoa Vendendora          6.403125\n",
       "Professor(a)               6.690000\n",
       "Representante de Vendas    5.900000\n",
       "Name: Duração do sono, dtype: float64"
      ]
     },
     "execution_count": 8,
     "metadata": {},
     "output_type": "execute_result"
    }
   ],
   "source": [
    "#Calculando a média de horas de sono de cada profissão\n",
    "df.groupby('Profissão')['Duração do sono'].mean()"
   ]
  },
  {
   "cell_type": "code",
   "execution_count": 9,
   "metadata": {},
   "outputs": [
    {
     "data": {
      "text/plain": [
       "Profissão\n",
       "Advogado(a)                       7.2\n",
       "Cientista                  [5.8, 6.2]\n",
       "Contador(a)                       7.2\n",
       "Enfermeiro(a)                     6.1\n",
       "Eng. de Software                  7.5\n",
       "Engenheiro(a)                     8.4\n",
       "Gerente                           6.9\n",
       "Médico(a)                         6.0\n",
       "Pessoa Vendendora                 6.5\n",
       "Professor(a)                      6.6\n",
       "Representante de Vendas           5.9\n",
       "Name: Duração do sono, dtype: object"
      ]
     },
     "execution_count": 9,
     "metadata": {},
     "output_type": "execute_result"
    }
   ],
   "source": [
    "#Calculando a moda\n",
    "df.groupby('Profissão')['Duração do sono'].agg(pd.Series.mode)"
   ]
  },
  {
   "cell_type": "code",
   "execution_count": 11,
   "metadata": {},
   "outputs": [
    {
     "data": {
      "text/plain": [
       "Profissão\n",
       "Advogado(a)                7.3\n",
       "Cientista                  6.0\n",
       "Contador(a)                7.2\n",
       "Enfermeiro(a)              6.5\n",
       "Eng. de Software           6.8\n",
       "Engenheiro(a)              8.3\n",
       "Gerente                    6.9\n",
       "Médico(a)                  7.6\n",
       "Pessoa Vendendora          6.4\n",
       "Professor(a)               6.6\n",
       "Representante de Vendas    5.9\n",
       "Name: Duração do sono, dtype: float64"
      ]
     },
     "execution_count": 11,
     "metadata": {},
     "output_type": "execute_result"
    }
   ],
   "source": [
    "#Calculando a mediana\n",
    "df.groupby('Profissão')['Duração do sono'].agg(np.median)"
   ]
  },
  {
   "cell_type": "code",
   "execution_count": 12,
   "metadata": {},
   "outputs": [
    {
     "data": {
      "text/html": [
       "<div>\n",
       "<style scoped>\n",
       "    .dataframe tbody tr th:only-of-type {\n",
       "        vertical-align: middle;\n",
       "    }\n",
       "\n",
       "    .dataframe tbody tr th {\n",
       "        vertical-align: top;\n",
       "    }\n",
       "\n",
       "    .dataframe thead th {\n",
       "        text-align: right;\n",
       "    }\n",
       "</style>\n",
       "<table border=\"1\" class=\"dataframe\">\n",
       "  <thead>\n",
       "    <tr style=\"text-align: right;\">\n",
       "      <th></th>\n",
       "      <th>count</th>\n",
       "      <th>mean</th>\n",
       "      <th>std</th>\n",
       "      <th>min</th>\n",
       "      <th>25%</th>\n",
       "      <th>50%</th>\n",
       "      <th>75%</th>\n",
       "      <th>max</th>\n",
       "    </tr>\n",
       "    <tr>\n",
       "      <th>Profissão</th>\n",
       "      <th></th>\n",
       "      <th></th>\n",
       "      <th></th>\n",
       "      <th></th>\n",
       "      <th></th>\n",
       "      <th></th>\n",
       "      <th></th>\n",
       "      <th></th>\n",
       "    </tr>\n",
       "  </thead>\n",
       "  <tbody>\n",
       "    <tr>\n",
       "      <th>Advogado(a)</th>\n",
       "      <td>47.0</td>\n",
       "      <td>7.410638</td>\n",
       "      <td>0.270454</td>\n",
       "      <td>6.9</td>\n",
       "      <td>7.20</td>\n",
       "      <td>7.3</td>\n",
       "      <td>7.700</td>\n",
       "      <td>7.9</td>\n",
       "    </tr>\n",
       "    <tr>\n",
       "      <th>Cientista</th>\n",
       "      <td>4.0</td>\n",
       "      <td>6.000000</td>\n",
       "      <td>0.230940</td>\n",
       "      <td>5.8</td>\n",
       "      <td>5.80</td>\n",
       "      <td>6.0</td>\n",
       "      <td>6.200</td>\n",
       "      <td>6.2</td>\n",
       "    </tr>\n",
       "    <tr>\n",
       "      <th>Contador(a)</th>\n",
       "      <td>37.0</td>\n",
       "      <td>7.113514</td>\n",
       "      <td>0.312838</td>\n",
       "      <td>6.5</td>\n",
       "      <td>7.10</td>\n",
       "      <td>7.2</td>\n",
       "      <td>7.200</td>\n",
       "      <td>8.0</td>\n",
       "    </tr>\n",
       "    <tr>\n",
       "      <th>Enfermeiro(a)</th>\n",
       "      <td>72.0</td>\n",
       "      <td>7.048611</td>\n",
       "      <td>0.989522</td>\n",
       "      <td>5.9</td>\n",
       "      <td>6.10</td>\n",
       "      <td>6.5</td>\n",
       "      <td>8.100</td>\n",
       "      <td>8.2</td>\n",
       "    </tr>\n",
       "    <tr>\n",
       "      <th>Eng. de Software</th>\n",
       "      <td>4.0</td>\n",
       "      <td>6.750000</td>\n",
       "      <td>0.869866</td>\n",
       "      <td>5.9</td>\n",
       "      <td>6.05</td>\n",
       "      <td>6.8</td>\n",
       "      <td>7.500</td>\n",
       "      <td>7.5</td>\n",
       "    </tr>\n",
       "    <tr>\n",
       "      <th>Engenheiro(a)</th>\n",
       "      <td>63.0</td>\n",
       "      <td>7.987302</td>\n",
       "      <td>0.511005</td>\n",
       "      <td>6.5</td>\n",
       "      <td>7.70</td>\n",
       "      <td>8.3</td>\n",
       "      <td>8.400</td>\n",
       "      <td>8.5</td>\n",
       "    </tr>\n",
       "    <tr>\n",
       "      <th>Gerente</th>\n",
       "      <td>1.0</td>\n",
       "      <td>6.900000</td>\n",
       "      <td>NaN</td>\n",
       "      <td>6.9</td>\n",
       "      <td>6.90</td>\n",
       "      <td>6.9</td>\n",
       "      <td>6.900</td>\n",
       "      <td>6.9</td>\n",
       "    </tr>\n",
       "    <tr>\n",
       "      <th>Médico(a)</th>\n",
       "      <td>71.0</td>\n",
       "      <td>6.970423</td>\n",
       "      <td>0.863613</td>\n",
       "      <td>6.0</td>\n",
       "      <td>6.05</td>\n",
       "      <td>7.6</td>\n",
       "      <td>7.700</td>\n",
       "      <td>8.2</td>\n",
       "    </tr>\n",
       "    <tr>\n",
       "      <th>Pessoa Vendendora</th>\n",
       "      <td>32.0</td>\n",
       "      <td>6.403125</td>\n",
       "      <td>0.089747</td>\n",
       "      <td>6.3</td>\n",
       "      <td>6.30</td>\n",
       "      <td>6.4</td>\n",
       "      <td>6.500</td>\n",
       "      <td>6.5</td>\n",
       "    </tr>\n",
       "    <tr>\n",
       "      <th>Professor(a)</th>\n",
       "      <td>40.0</td>\n",
       "      <td>6.690000</td>\n",
       "      <td>0.226229</td>\n",
       "      <td>6.3</td>\n",
       "      <td>6.60</td>\n",
       "      <td>6.6</td>\n",
       "      <td>6.725</td>\n",
       "      <td>7.2</td>\n",
       "    </tr>\n",
       "    <tr>\n",
       "      <th>Representante de Vendas</th>\n",
       "      <td>2.0</td>\n",
       "      <td>5.900000</td>\n",
       "      <td>0.000000</td>\n",
       "      <td>5.9</td>\n",
       "      <td>5.90</td>\n",
       "      <td>5.9</td>\n",
       "      <td>5.900</td>\n",
       "      <td>5.9</td>\n",
       "    </tr>\n",
       "  </tbody>\n",
       "</table>\n",
       "</div>"
      ],
      "text/plain": [
       "                         count      mean       std  min   25%  50%    75%  max\n",
       "Profissão                                                                     \n",
       "Advogado(a)               47.0  7.410638  0.270454  6.9  7.20  7.3  7.700  7.9\n",
       "Cientista                  4.0  6.000000  0.230940  5.8  5.80  6.0  6.200  6.2\n",
       "Contador(a)               37.0  7.113514  0.312838  6.5  7.10  7.2  7.200  8.0\n",
       "Enfermeiro(a)             72.0  7.048611  0.989522  5.9  6.10  6.5  8.100  8.2\n",
       "Eng. de Software           4.0  6.750000  0.869866  5.9  6.05  6.8  7.500  7.5\n",
       "Engenheiro(a)             63.0  7.987302  0.511005  6.5  7.70  8.3  8.400  8.5\n",
       "Gerente                    1.0  6.900000       NaN  6.9  6.90  6.9  6.900  6.9\n",
       "Médico(a)                 71.0  6.970423  0.863613  6.0  6.05  7.6  7.700  8.2\n",
       "Pessoa Vendendora         32.0  6.403125  0.089747  6.3  6.30  6.4  6.500  6.5\n",
       "Professor(a)              40.0  6.690000  0.226229  6.3  6.60  6.6  6.725  7.2\n",
       "Representante de Vendas    2.0  5.900000  0.000000  5.9  5.90  5.9  5.900  5.9"
      ]
     },
     "execution_count": 12,
     "metadata": {},
     "output_type": "execute_result"
    }
   ],
   "source": [
    "#Outro jeito de calcular a mediana\n",
    "#A mediana corresponde aos valores na coluna \"50%\"\n",
    "df.groupby('Profissão')['Duração do sono'].describe()"
   ]
  },
  {
   "cell_type": "markdown",
   "metadata": {},
   "source": [
    "## Passo 3\n",
    "Das pessoas que atuam com engenharia de software qual a\n",
    "porcentagem de obesos?\n",
    "\n",
    "*Resposta*: 25%"
   ]
  },
  {
   "cell_type": "code",
   "execution_count": 13,
   "metadata": {},
   "outputs": [
    {
     "data": {
      "text/plain": [
       "array(['Sobrepeso', 'Normal', 'Obesidade', 'Peso normal'], dtype=object)"
      ]
     },
     "execution_count": 13,
     "metadata": {},
     "output_type": "execute_result"
    }
   ],
   "source": [
    "df['Categoria IMC'].unique()"
   ]
  },
  {
   "cell_type": "code",
   "execution_count": 14,
   "metadata": {},
   "outputs": [
    {
     "data": {
      "text/plain": [
       "array(['Eng. de Software', 'Médico(a)', 'Representante de Vendas',\n",
       "       'Professor(a)', 'Enfermeiro(a)', 'Engenheiro(a)', 'Contador(a)',\n",
       "       'Cientista', 'Advogado(a)', 'Pessoa Vendendora', 'Gerente'],\n",
       "      dtype=object)"
      ]
     },
     "execution_count": 14,
     "metadata": {},
     "output_type": "execute_result"
    }
   ],
   "source": [
    "df['Profissão'].unique()"
   ]
  },
  {
   "cell_type": "code",
   "execution_count": 15,
   "metadata": {},
   "outputs": [
    {
     "data": {
      "text/html": [
       "<div>\n",
       "<style scoped>\n",
       "    .dataframe tbody tr th:only-of-type {\n",
       "        vertical-align: middle;\n",
       "    }\n",
       "\n",
       "    .dataframe tbody tr th {\n",
       "        vertical-align: top;\n",
       "    }\n",
       "\n",
       "    .dataframe thead th {\n",
       "        text-align: right;\n",
       "    }\n",
       "</style>\n",
       "<table border=\"1\" class=\"dataframe\">\n",
       "  <thead>\n",
       "    <tr style=\"text-align: right;\">\n",
       "      <th></th>\n",
       "      <th>Identificador</th>\n",
       "      <th>Gênero</th>\n",
       "      <th>Idade</th>\n",
       "      <th>Profissão</th>\n",
       "      <th>Duração do sono</th>\n",
       "      <th>Qualidade do sono</th>\n",
       "      <th>Nível de atividade física</th>\n",
       "      <th>Nível de estresse</th>\n",
       "      <th>Categoria IMC</th>\n",
       "      <th>Pressão sanguínea</th>\n",
       "      <th>Frequência cardíaca</th>\n",
       "      <th>Passos diários</th>\n",
       "      <th>Distúrbio do sono</th>\n",
       "    </tr>\n",
       "  </thead>\n",
       "  <tbody>\n",
       "    <tr>\n",
       "      <th>5</th>\n",
       "      <td>6</td>\n",
       "      <td>Homem</td>\n",
       "      <td>28</td>\n",
       "      <td>Eng. de Software</td>\n",
       "      <td>5.9</td>\n",
       "      <td>4</td>\n",
       "      <td>30</td>\n",
       "      <td>8</td>\n",
       "      <td>Obesidade</td>\n",
       "      <td>140/90</td>\n",
       "      <td>85</td>\n",
       "      <td>3000</td>\n",
       "      <td>Insônia</td>\n",
       "    </tr>\n",
       "  </tbody>\n",
       "</table>\n",
       "</div>"
      ],
      "text/plain": [
       "   Identificador Gênero  Idade         Profissão  Duração do sono  \\\n",
       "5              6  Homem     28  Eng. de Software              5.9   \n",
       "\n",
       "   Qualidade do sono  Nível de atividade física  Nível de estresse  \\\n",
       "5                  4                         30                  8   \n",
       "\n",
       "  Categoria IMC Pressão sanguínea  Frequência cardíaca  Passos diários  \\\n",
       "5     Obesidade            140/90                   85            3000   \n",
       "\n",
       "  Distúrbio do sono  \n",
       "5           Insônia  "
      ]
     },
     "execution_count": 15,
     "metadata": {},
     "output_type": "execute_result"
    }
   ],
   "source": [
    "fatiamento1 = df[(df['Profissão'] == 'Eng. de Software') & (df['Categoria IMC'] == 'Obesidade')]\n",
    "fatiamento1"
   ]
  },
  {
   "cell_type": "code",
   "execution_count": 16,
   "metadata": {},
   "outputs": [
    {
     "data": {
      "text/html": [
       "<div>\n",
       "<style scoped>\n",
       "    .dataframe tbody tr th:only-of-type {\n",
       "        vertical-align: middle;\n",
       "    }\n",
       "\n",
       "    .dataframe tbody tr th {\n",
       "        vertical-align: top;\n",
       "    }\n",
       "\n",
       "    .dataframe thead th {\n",
       "        text-align: right;\n",
       "    }\n",
       "</style>\n",
       "<table border=\"1\" class=\"dataframe\">\n",
       "  <thead>\n",
       "    <tr style=\"text-align: right;\">\n",
       "      <th></th>\n",
       "      <th>Identificador</th>\n",
       "      <th>Gênero</th>\n",
       "      <th>Idade</th>\n",
       "      <th>Profissão</th>\n",
       "      <th>Duração do sono</th>\n",
       "      <th>Qualidade do sono</th>\n",
       "      <th>Nível de atividade física</th>\n",
       "      <th>Nível de estresse</th>\n",
       "      <th>Categoria IMC</th>\n",
       "      <th>Pressão sanguínea</th>\n",
       "      <th>Frequência cardíaca</th>\n",
       "      <th>Passos diários</th>\n",
       "      <th>Distúrbio do sono</th>\n",
       "    </tr>\n",
       "  </thead>\n",
       "  <tbody>\n",
       "    <tr>\n",
       "      <th>0</th>\n",
       "      <td>1</td>\n",
       "      <td>Homem</td>\n",
       "      <td>27</td>\n",
       "      <td>Eng. de Software</td>\n",
       "      <td>6.1</td>\n",
       "      <td>6</td>\n",
       "      <td>42</td>\n",
       "      <td>6</td>\n",
       "      <td>Sobrepeso</td>\n",
       "      <td>126/83</td>\n",
       "      <td>77</td>\n",
       "      <td>4200</td>\n",
       "      <td>Nenhuma</td>\n",
       "    </tr>\n",
       "    <tr>\n",
       "      <th>5</th>\n",
       "      <td>6</td>\n",
       "      <td>Homem</td>\n",
       "      <td>28</td>\n",
       "      <td>Eng. de Software</td>\n",
       "      <td>5.9</td>\n",
       "      <td>4</td>\n",
       "      <td>30</td>\n",
       "      <td>8</td>\n",
       "      <td>Obesidade</td>\n",
       "      <td>140/90</td>\n",
       "      <td>85</td>\n",
       "      <td>3000</td>\n",
       "      <td>Insônia</td>\n",
       "    </tr>\n",
       "    <tr>\n",
       "      <th>84</th>\n",
       "      <td>85</td>\n",
       "      <td>Homem</td>\n",
       "      <td>35</td>\n",
       "      <td>Eng. de Software</td>\n",
       "      <td>7.5</td>\n",
       "      <td>8</td>\n",
       "      <td>60</td>\n",
       "      <td>5</td>\n",
       "      <td>Peso normal</td>\n",
       "      <td>120/80</td>\n",
       "      <td>70</td>\n",
       "      <td>8000</td>\n",
       "      <td>Nenhuma</td>\n",
       "    </tr>\n",
       "    <tr>\n",
       "      <th>92</th>\n",
       "      <td>93</td>\n",
       "      <td>Homem</td>\n",
       "      <td>35</td>\n",
       "      <td>Eng. de Software</td>\n",
       "      <td>7.5</td>\n",
       "      <td>8</td>\n",
       "      <td>60</td>\n",
       "      <td>5</td>\n",
       "      <td>Peso normal</td>\n",
       "      <td>120/80</td>\n",
       "      <td>70</td>\n",
       "      <td>8000</td>\n",
       "      <td>Nenhuma</td>\n",
       "    </tr>\n",
       "  </tbody>\n",
       "</table>\n",
       "</div>"
      ],
      "text/plain": [
       "    Identificador Gênero  Idade         Profissão  Duração do sono  \\\n",
       "0               1  Homem     27  Eng. de Software              6.1   \n",
       "5               6  Homem     28  Eng. de Software              5.9   \n",
       "84             85  Homem     35  Eng. de Software              7.5   \n",
       "92             93  Homem     35  Eng. de Software              7.5   \n",
       "\n",
       "    Qualidade do sono  Nível de atividade física  Nível de estresse  \\\n",
       "0                   6                         42                  6   \n",
       "5                   4                         30                  8   \n",
       "84                  8                         60                  5   \n",
       "92                  8                         60                  5   \n",
       "\n",
       "   Categoria IMC Pressão sanguínea  Frequência cardíaca  Passos diários  \\\n",
       "0      Sobrepeso            126/83                   77            4200   \n",
       "5      Obesidade            140/90                   85            3000   \n",
       "84   Peso normal            120/80                   70            8000   \n",
       "92   Peso normal            120/80                   70            8000   \n",
       "\n",
       "   Distúrbio do sono  \n",
       "0            Nenhuma  \n",
       "5            Insônia  \n",
       "84           Nenhuma  \n",
       "92           Nenhuma  "
      ]
     },
     "execution_count": 16,
     "metadata": {},
     "output_type": "execute_result"
    }
   ],
   "source": [
    "df_filtrado = df[df['Profissão'] == 'Eng. de Software']\n",
    "df_filtrado"
   ]
  },
  {
   "cell_type": "code",
   "execution_count": 17,
   "metadata": {},
   "outputs": [
    {
     "data": {
      "text/plain": [
       "Categoria IMC\n",
       "Peso normal    50.0\n",
       "Sobrepeso      25.0\n",
       "Obesidade      25.0\n",
       "Name: proportion, dtype: float64"
      ]
     },
     "execution_count": 17,
     "metadata": {},
     "output_type": "execute_result"
    }
   ],
   "source": [
    "df_filtrado['Categoria IMC'].value_counts(normalize=True)*100"
   ]
  },
  {
   "cell_type": "markdown",
   "metadata": {},
   "source": [
    "## Passo 4\n",
    "De acordo com os dados, advogar ou ser representante de vendas faz\n",
    "você dormir menos? (Use o método ‘isin’, considere a média)\n",
    "\n",
    "**Resposta**: Ser representante de vendas faz a pessoa dormir menos."
   ]
  },
  {
   "cell_type": "code",
   "execution_count": 18,
   "metadata": {},
   "outputs": [],
   "source": [
    "df_filtrado_advogados = df[df['Profissão'].isin(['Advogado(a)'])]"
   ]
  },
  {
   "cell_type": "code",
   "execution_count": 19,
   "metadata": {},
   "outputs": [
    {
     "data": {
      "text/plain": [
       "7.4106382978723415"
      ]
     },
     "execution_count": 19,
     "metadata": {},
     "output_type": "execute_result"
    }
   ],
   "source": [
    "df_filtrado_advogados['Duração do sono'].mean()"
   ]
  },
  {
   "cell_type": "code",
   "execution_count": 20,
   "metadata": {},
   "outputs": [],
   "source": [
    "df_filtrado_representantes_vendas = df[df['Profissão'].isin(['Representante de Vendas'])]"
   ]
  },
  {
   "cell_type": "code",
   "execution_count": 21,
   "metadata": {},
   "outputs": [
    {
     "data": {
      "text/plain": [
       "5.9"
      ]
     },
     "execution_count": 21,
     "metadata": {},
     "output_type": "execute_result"
    }
   ],
   "source": [
    "df_filtrado_representantes_vendas['Duração do sono'].mean()"
   ]
  },
  {
   "cell_type": "markdown",
   "metadata": {},
   "source": [
    "## Passo 5\n",
    "Entre quem fez enfermagem e quem fez medicina, quem tem menos\n",
    "horas de sono? (Use o método ‘isin’, considere a média)\n",
    "\n",
    "**Resposta**: Os médicos têm menos horas de sono."
   ]
  },
  {
   "cell_type": "code",
   "execution_count": 22,
   "metadata": {},
   "outputs": [
    {
     "data": {
      "text/html": [
       "<div>\n",
       "<style scoped>\n",
       "    .dataframe tbody tr th:only-of-type {\n",
       "        vertical-align: middle;\n",
       "    }\n",
       "\n",
       "    .dataframe tbody tr th {\n",
       "        vertical-align: top;\n",
       "    }\n",
       "\n",
       "    .dataframe thead th {\n",
       "        text-align: right;\n",
       "    }\n",
       "</style>\n",
       "<table border=\"1\" class=\"dataframe\">\n",
       "  <thead>\n",
       "    <tr style=\"text-align: right;\">\n",
       "      <th></th>\n",
       "      <th>Identificador</th>\n",
       "      <th>Gênero</th>\n",
       "      <th>Idade</th>\n",
       "      <th>Profissão</th>\n",
       "      <th>Duração do sono</th>\n",
       "      <th>Qualidade do sono</th>\n",
       "      <th>Nível de atividade física</th>\n",
       "      <th>Nível de estresse</th>\n",
       "      <th>Categoria IMC</th>\n",
       "      <th>Pressão sanguínea</th>\n",
       "      <th>Frequência cardíaca</th>\n",
       "      <th>Passos diários</th>\n",
       "      <th>Distúrbio do sono</th>\n",
       "    </tr>\n",
       "  </thead>\n",
       "  <tbody>\n",
       "    <tr>\n",
       "      <th>1</th>\n",
       "      <td>2</td>\n",
       "      <td>Homem</td>\n",
       "      <td>28</td>\n",
       "      <td>Médico(a)</td>\n",
       "      <td>6.2</td>\n",
       "      <td>6</td>\n",
       "      <td>60</td>\n",
       "      <td>8</td>\n",
       "      <td>Normal</td>\n",
       "      <td>125/80</td>\n",
       "      <td>75</td>\n",
       "      <td>10000</td>\n",
       "      <td>Nenhuma</td>\n",
       "    </tr>\n",
       "    <tr>\n",
       "      <th>2</th>\n",
       "      <td>3</td>\n",
       "      <td>Homem</td>\n",
       "      <td>28</td>\n",
       "      <td>Médico(a)</td>\n",
       "      <td>6.2</td>\n",
       "      <td>6</td>\n",
       "      <td>60</td>\n",
       "      <td>8</td>\n",
       "      <td>Normal</td>\n",
       "      <td>125/80</td>\n",
       "      <td>75</td>\n",
       "      <td>10000</td>\n",
       "      <td>Nenhuma</td>\n",
       "    </tr>\n",
       "    <tr>\n",
       "      <th>7</th>\n",
       "      <td>8</td>\n",
       "      <td>Homem</td>\n",
       "      <td>29</td>\n",
       "      <td>Médico(a)</td>\n",
       "      <td>7.8</td>\n",
       "      <td>7</td>\n",
       "      <td>75</td>\n",
       "      <td>6</td>\n",
       "      <td>Normal</td>\n",
       "      <td>120/80</td>\n",
       "      <td>70</td>\n",
       "      <td>8000</td>\n",
       "      <td>Nenhuma</td>\n",
       "    </tr>\n",
       "    <tr>\n",
       "      <th>8</th>\n",
       "      <td>9</td>\n",
       "      <td>Homem</td>\n",
       "      <td>29</td>\n",
       "      <td>Médico(a)</td>\n",
       "      <td>7.8</td>\n",
       "      <td>7</td>\n",
       "      <td>75</td>\n",
       "      <td>6</td>\n",
       "      <td>Normal</td>\n",
       "      <td>120/80</td>\n",
       "      <td>70</td>\n",
       "      <td>8000</td>\n",
       "      <td>Nenhuma</td>\n",
       "    </tr>\n",
       "    <tr>\n",
       "      <th>9</th>\n",
       "      <td>10</td>\n",
       "      <td>Homem</td>\n",
       "      <td>29</td>\n",
       "      <td>Médico(a)</td>\n",
       "      <td>7.8</td>\n",
       "      <td>7</td>\n",
       "      <td>75</td>\n",
       "      <td>6</td>\n",
       "      <td>Normal</td>\n",
       "      <td>120/80</td>\n",
       "      <td>70</td>\n",
       "      <td>8000</td>\n",
       "      <td>Nenhuma</td>\n",
       "    </tr>\n",
       "    <tr>\n",
       "      <th>...</th>\n",
       "      <td>...</td>\n",
       "      <td>...</td>\n",
       "      <td>...</td>\n",
       "      <td>...</td>\n",
       "      <td>...</td>\n",
       "      <td>...</td>\n",
       "      <td>...</td>\n",
       "      <td>...</td>\n",
       "      <td>...</td>\n",
       "      <td>...</td>\n",
       "      <td>...</td>\n",
       "      <td>...</td>\n",
       "      <td>...</td>\n",
       "    </tr>\n",
       "    <tr>\n",
       "      <th>368</th>\n",
       "      <td>369</td>\n",
       "      <td>Mulher</td>\n",
       "      <td>59</td>\n",
       "      <td>Enfermeiro(a)</td>\n",
       "      <td>8.1</td>\n",
       "      <td>9</td>\n",
       "      <td>75</td>\n",
       "      <td>3</td>\n",
       "      <td>Sobrepeso</td>\n",
       "      <td>140/95</td>\n",
       "      <td>68</td>\n",
       "      <td>7000</td>\n",
       "      <td>Apneia do sono</td>\n",
       "    </tr>\n",
       "    <tr>\n",
       "      <th>369</th>\n",
       "      <td>370</td>\n",
       "      <td>Mulher</td>\n",
       "      <td>59</td>\n",
       "      <td>Enfermeiro(a)</td>\n",
       "      <td>8.1</td>\n",
       "      <td>9</td>\n",
       "      <td>75</td>\n",
       "      <td>3</td>\n",
       "      <td>Sobrepeso</td>\n",
       "      <td>140/95</td>\n",
       "      <td>68</td>\n",
       "      <td>7000</td>\n",
       "      <td>Apneia do sono</td>\n",
       "    </tr>\n",
       "    <tr>\n",
       "      <th>370</th>\n",
       "      <td>371</td>\n",
       "      <td>Mulher</td>\n",
       "      <td>59</td>\n",
       "      <td>Enfermeiro(a)</td>\n",
       "      <td>8.0</td>\n",
       "      <td>9</td>\n",
       "      <td>75</td>\n",
       "      <td>3</td>\n",
       "      <td>Sobrepeso</td>\n",
       "      <td>140/95</td>\n",
       "      <td>68</td>\n",
       "      <td>7000</td>\n",
       "      <td>Apneia do sono</td>\n",
       "    </tr>\n",
       "    <tr>\n",
       "      <th>371</th>\n",
       "      <td>372</td>\n",
       "      <td>Mulher</td>\n",
       "      <td>59</td>\n",
       "      <td>Enfermeiro(a)</td>\n",
       "      <td>8.1</td>\n",
       "      <td>9</td>\n",
       "      <td>75</td>\n",
       "      <td>3</td>\n",
       "      <td>Sobrepeso</td>\n",
       "      <td>140/95</td>\n",
       "      <td>68</td>\n",
       "      <td>7000</td>\n",
       "      <td>Apneia do sono</td>\n",
       "    </tr>\n",
       "    <tr>\n",
       "      <th>372</th>\n",
       "      <td>373</td>\n",
       "      <td>Mulher</td>\n",
       "      <td>59</td>\n",
       "      <td>Enfermeiro(a)</td>\n",
       "      <td>8.1</td>\n",
       "      <td>9</td>\n",
       "      <td>75</td>\n",
       "      <td>3</td>\n",
       "      <td>Sobrepeso</td>\n",
       "      <td>140/95</td>\n",
       "      <td>68</td>\n",
       "      <td>7000</td>\n",
       "      <td>Apneia do sono</td>\n",
       "    </tr>\n",
       "  </tbody>\n",
       "</table>\n",
       "<p>143 rows × 13 columns</p>\n",
       "</div>"
      ],
      "text/plain": [
       "     Identificador  Gênero  Idade      Profissão  Duração do sono  \\\n",
       "1                2   Homem     28      Médico(a)              6.2   \n",
       "2                3   Homem     28      Médico(a)              6.2   \n",
       "7                8   Homem     29      Médico(a)              7.8   \n",
       "8                9   Homem     29      Médico(a)              7.8   \n",
       "9               10   Homem     29      Médico(a)              7.8   \n",
       "..             ...     ...    ...            ...              ...   \n",
       "368            369  Mulher     59  Enfermeiro(a)              8.1   \n",
       "369            370  Mulher     59  Enfermeiro(a)              8.1   \n",
       "370            371  Mulher     59  Enfermeiro(a)              8.0   \n",
       "371            372  Mulher     59  Enfermeiro(a)              8.1   \n",
       "372            373  Mulher     59  Enfermeiro(a)              8.1   \n",
       "\n",
       "     Qualidade do sono  Nível de atividade física  Nível de estresse  \\\n",
       "1                    6                         60                  8   \n",
       "2                    6                         60                  8   \n",
       "7                    7                         75                  6   \n",
       "8                    7                         75                  6   \n",
       "9                    7                         75                  6   \n",
       "..                 ...                        ...                ...   \n",
       "368                  9                         75                  3   \n",
       "369                  9                         75                  3   \n",
       "370                  9                         75                  3   \n",
       "371                  9                         75                  3   \n",
       "372                  9                         75                  3   \n",
       "\n",
       "    Categoria IMC Pressão sanguínea  Frequência cardíaca  Passos diários  \\\n",
       "1          Normal            125/80                   75           10000   \n",
       "2          Normal            125/80                   75           10000   \n",
       "7          Normal            120/80                   70            8000   \n",
       "8          Normal            120/80                   70            8000   \n",
       "9          Normal            120/80                   70            8000   \n",
       "..            ...               ...                  ...             ...   \n",
       "368     Sobrepeso            140/95                   68            7000   \n",
       "369     Sobrepeso            140/95                   68            7000   \n",
       "370     Sobrepeso            140/95                   68            7000   \n",
       "371     Sobrepeso            140/95                   68            7000   \n",
       "372     Sobrepeso            140/95                   68            7000   \n",
       "\n",
       "    Distúrbio do sono  \n",
       "1             Nenhuma  \n",
       "2             Nenhuma  \n",
       "7             Nenhuma  \n",
       "8             Nenhuma  \n",
       "9             Nenhuma  \n",
       "..                ...  \n",
       "368    Apneia do sono  \n",
       "369    Apneia do sono  \n",
       "370    Apneia do sono  \n",
       "371    Apneia do sono  \n",
       "372    Apneia do sono  \n",
       "\n",
       "[143 rows x 13 columns]"
      ]
     },
     "execution_count": 22,
     "metadata": {},
     "output_type": "execute_result"
    }
   ],
   "source": [
    "df_filtrado = df[df['Profissão'].isin(['Médico(a)', 'Enfermeiro(a)'])]\n",
    "df_filtrado"
   ]
  },
  {
   "cell_type": "code",
   "execution_count": 23,
   "metadata": {},
   "outputs": [
    {
     "data": {
      "text/plain": [
       "Profissão\n",
       "Enfermeiro(a)    7.048611\n",
       "Médico(a)        6.970423\n",
       "Name: Duração do sono, dtype: float64"
      ]
     },
     "execution_count": 23,
     "metadata": {},
     "output_type": "execute_result"
    }
   ],
   "source": [
    "df_filtrado.groupby('Profissão')['Duração do sono'].mean()"
   ]
  },
  {
   "cell_type": "markdown",
   "metadata": {},
   "source": [
    "## Passo 6\n",
    "Faça um subconjunto com as colunas Identificador, Gênero, Idade,\n",
    "Pressão sanguínea e Frequência cardíaca."
   ]
  },
  {
   "cell_type": "code",
   "execution_count": 24,
   "metadata": {},
   "outputs": [
    {
     "data": {
      "text/html": [
       "<div>\n",
       "<style scoped>\n",
       "    .dataframe tbody tr th:only-of-type {\n",
       "        vertical-align: middle;\n",
       "    }\n",
       "\n",
       "    .dataframe tbody tr th {\n",
       "        vertical-align: top;\n",
       "    }\n",
       "\n",
       "    .dataframe thead th {\n",
       "        text-align: right;\n",
       "    }\n",
       "</style>\n",
       "<table border=\"1\" class=\"dataframe\">\n",
       "  <thead>\n",
       "    <tr style=\"text-align: right;\">\n",
       "      <th></th>\n",
       "      <th>Identificador</th>\n",
       "      <th>Gênero</th>\n",
       "      <th>Idade</th>\n",
       "      <th>Pressão sanguínea</th>\n",
       "      <th>Frequência cardíaca</th>\n",
       "    </tr>\n",
       "  </thead>\n",
       "  <tbody>\n",
       "    <tr>\n",
       "      <th>0</th>\n",
       "      <td>1</td>\n",
       "      <td>Homem</td>\n",
       "      <td>27</td>\n",
       "      <td>126/83</td>\n",
       "      <td>77</td>\n",
       "    </tr>\n",
       "    <tr>\n",
       "      <th>1</th>\n",
       "      <td>2</td>\n",
       "      <td>Homem</td>\n",
       "      <td>28</td>\n",
       "      <td>125/80</td>\n",
       "      <td>75</td>\n",
       "    </tr>\n",
       "    <tr>\n",
       "      <th>2</th>\n",
       "      <td>3</td>\n",
       "      <td>Homem</td>\n",
       "      <td>28</td>\n",
       "      <td>125/80</td>\n",
       "      <td>75</td>\n",
       "    </tr>\n",
       "    <tr>\n",
       "      <th>3</th>\n",
       "      <td>4</td>\n",
       "      <td>Homem</td>\n",
       "      <td>28</td>\n",
       "      <td>140/90</td>\n",
       "      <td>85</td>\n",
       "    </tr>\n",
       "    <tr>\n",
       "      <th>4</th>\n",
       "      <td>5</td>\n",
       "      <td>Homem</td>\n",
       "      <td>28</td>\n",
       "      <td>140/90</td>\n",
       "      <td>85</td>\n",
       "    </tr>\n",
       "    <tr>\n",
       "      <th>...</th>\n",
       "      <td>...</td>\n",
       "      <td>...</td>\n",
       "      <td>...</td>\n",
       "      <td>...</td>\n",
       "      <td>...</td>\n",
       "    </tr>\n",
       "    <tr>\n",
       "      <th>368</th>\n",
       "      <td>369</td>\n",
       "      <td>Mulher</td>\n",
       "      <td>59</td>\n",
       "      <td>140/95</td>\n",
       "      <td>68</td>\n",
       "    </tr>\n",
       "    <tr>\n",
       "      <th>369</th>\n",
       "      <td>370</td>\n",
       "      <td>Mulher</td>\n",
       "      <td>59</td>\n",
       "      <td>140/95</td>\n",
       "      <td>68</td>\n",
       "    </tr>\n",
       "    <tr>\n",
       "      <th>370</th>\n",
       "      <td>371</td>\n",
       "      <td>Mulher</td>\n",
       "      <td>59</td>\n",
       "      <td>140/95</td>\n",
       "      <td>68</td>\n",
       "    </tr>\n",
       "    <tr>\n",
       "      <th>371</th>\n",
       "      <td>372</td>\n",
       "      <td>Mulher</td>\n",
       "      <td>59</td>\n",
       "      <td>140/95</td>\n",
       "      <td>68</td>\n",
       "    </tr>\n",
       "    <tr>\n",
       "      <th>372</th>\n",
       "      <td>373</td>\n",
       "      <td>Mulher</td>\n",
       "      <td>59</td>\n",
       "      <td>140/95</td>\n",
       "      <td>68</td>\n",
       "    </tr>\n",
       "  </tbody>\n",
       "</table>\n",
       "<p>373 rows × 5 columns</p>\n",
       "</div>"
      ],
      "text/plain": [
       "     Identificador  Gênero  Idade Pressão sanguínea  Frequência cardíaca\n",
       "0                1   Homem     27            126/83                   77\n",
       "1                2   Homem     28            125/80                   75\n",
       "2                3   Homem     28            125/80                   75\n",
       "3                4   Homem     28            140/90                   85\n",
       "4                5   Homem     28            140/90                   85\n",
       "..             ...     ...    ...               ...                  ...\n",
       "368            369  Mulher     59            140/95                   68\n",
       "369            370  Mulher     59            140/95                   68\n",
       "370            371  Mulher     59            140/95                   68\n",
       "371            372  Mulher     59            140/95                   68\n",
       "372            373  Mulher     59            140/95                   68\n",
       "\n",
       "[373 rows x 5 columns]"
      ]
     },
     "execution_count": 24,
     "metadata": {},
     "output_type": "execute_result"
    }
   ],
   "source": [
    "subconjunto = df[['Identificador', 'Gênero', 'Idade', 'Pressão sanguínea', 'Frequência cardíaca']]\n",
    "subconjunto"
   ]
  },
  {
   "cell_type": "markdown",
   "metadata": {},
   "source": [
    "## Passo 7\n",
    "Descubra qual é a profissão menos frequente no conjunto. (Use\n",
    "value_counts)\n",
    "\n",
    "**Resposta**: A profissão menos frequente é a de gerente."
   ]
  },
  {
   "cell_type": "code",
   "execution_count": 25,
   "metadata": {},
   "outputs": [
    {
     "data": {
      "text/plain": [
       "Profissão\n",
       "Enfermeiro(a)              72\n",
       "Médico(a)                  71\n",
       "Engenheiro(a)              63\n",
       "Advogado(a)                47\n",
       "Professor(a)               40\n",
       "Contador(a)                37\n",
       "Pessoa Vendendora          32\n",
       "Eng. de Software            4\n",
       "Cientista                   4\n",
       "Representante de Vendas     2\n",
       "Gerente                     1\n",
       "Name: count, dtype: int64"
      ]
     },
     "execution_count": 25,
     "metadata": {},
     "output_type": "execute_result"
    }
   ],
   "source": [
    "df['Profissão'].value_counts()"
   ]
  },
  {
   "cell_type": "markdown",
   "metadata": {},
   "source": [
    "## Passo 8\n",
    "Quem tem maior pressão sanguínea média, homens ou mulheres?\n",
    "(Considere a média)\n",
    "\n",
    "**Resposta**: As mulheres tem a maior média de pressão sanguínea."
   ]
  },
  {
   "cell_type": "code",
   "execution_count": 26,
   "metadata": {},
   "outputs": [
    {
     "data": {
      "text/html": [
       "<div>\n",
       "<style scoped>\n",
       "    .dataframe tbody tr th:only-of-type {\n",
       "        vertical-align: middle;\n",
       "    }\n",
       "\n",
       "    .dataframe tbody tr th {\n",
       "        vertical-align: top;\n",
       "    }\n",
       "\n",
       "    .dataframe thead th {\n",
       "        text-align: right;\n",
       "    }\n",
       "</style>\n",
       "<table border=\"1\" class=\"dataframe\">\n",
       "  <thead>\n",
       "    <tr style=\"text-align: right;\">\n",
       "      <th></th>\n",
       "      <th>Identificador</th>\n",
       "      <th>Gênero</th>\n",
       "      <th>Idade</th>\n",
       "      <th>Profissão</th>\n",
       "      <th>Duração do sono</th>\n",
       "      <th>Qualidade do sono</th>\n",
       "      <th>Nível de atividade física</th>\n",
       "      <th>Nível de estresse</th>\n",
       "      <th>Categoria IMC</th>\n",
       "      <th>Pressão sanguínea</th>\n",
       "      <th>Frequência cardíaca</th>\n",
       "      <th>Passos diários</th>\n",
       "      <th>Distúrbio do sono</th>\n",
       "    </tr>\n",
       "  </thead>\n",
       "  <tbody>\n",
       "    <tr>\n",
       "      <th>0</th>\n",
       "      <td>1</td>\n",
       "      <td>Homem</td>\n",
       "      <td>27</td>\n",
       "      <td>Eng. de Software</td>\n",
       "      <td>6.1</td>\n",
       "      <td>6</td>\n",
       "      <td>42</td>\n",
       "      <td>6</td>\n",
       "      <td>Sobrepeso</td>\n",
       "      <td>126/83</td>\n",
       "      <td>77</td>\n",
       "      <td>4200</td>\n",
       "      <td>Nenhuma</td>\n",
       "    </tr>\n",
       "    <tr>\n",
       "      <th>1</th>\n",
       "      <td>2</td>\n",
       "      <td>Homem</td>\n",
       "      <td>28</td>\n",
       "      <td>Médico(a)</td>\n",
       "      <td>6.2</td>\n",
       "      <td>6</td>\n",
       "      <td>60</td>\n",
       "      <td>8</td>\n",
       "      <td>Normal</td>\n",
       "      <td>125/80</td>\n",
       "      <td>75</td>\n",
       "      <td>10000</td>\n",
       "      <td>Nenhuma</td>\n",
       "    </tr>\n",
       "    <tr>\n",
       "      <th>2</th>\n",
       "      <td>3</td>\n",
       "      <td>Homem</td>\n",
       "      <td>28</td>\n",
       "      <td>Médico(a)</td>\n",
       "      <td>6.2</td>\n",
       "      <td>6</td>\n",
       "      <td>60</td>\n",
       "      <td>8</td>\n",
       "      <td>Normal</td>\n",
       "      <td>125/80</td>\n",
       "      <td>75</td>\n",
       "      <td>10000</td>\n",
       "      <td>Nenhuma</td>\n",
       "    </tr>\n",
       "  </tbody>\n",
       "</table>\n",
       "</div>"
      ],
      "text/plain": [
       "   Identificador Gênero  Idade         Profissão  Duração do sono  \\\n",
       "0              1  Homem     27  Eng. de Software              6.1   \n",
       "1              2  Homem     28         Médico(a)              6.2   \n",
       "2              3  Homem     28         Médico(a)              6.2   \n",
       "\n",
       "   Qualidade do sono  Nível de atividade física  Nível de estresse  \\\n",
       "0                  6                         42                  6   \n",
       "1                  6                         60                  8   \n",
       "2                  6                         60                  8   \n",
       "\n",
       "  Categoria IMC Pressão sanguínea  Frequência cardíaca  Passos diários  \\\n",
       "0     Sobrepeso            126/83                   77            4200   \n",
       "1        Normal            125/80                   75           10000   \n",
       "2        Normal            125/80                   75           10000   \n",
       "\n",
       "  Distúrbio do sono  \n",
       "0           Nenhuma  \n",
       "1           Nenhuma  \n",
       "2           Nenhuma  "
      ]
     },
     "execution_count": 26,
     "metadata": {},
     "output_type": "execute_result"
    }
   ],
   "source": [
    "df_homens = df[df['Gênero'] == 'Homem']\n",
    "df_homens.head(3)"
   ]
  },
  {
   "cell_type": "code",
   "execution_count": 28,
   "metadata": {},
   "outputs": [
    {
     "data": {
      "text/plain": [
       "<bound method NDFrame.head of        0   1\n",
       "0    126  83\n",
       "1    125  80\n",
       "2    125  80\n",
       "3    140  90\n",
       "4    140  90\n",
       "..   ...  ..\n",
       "249  130  85\n",
       "264  142  92\n",
       "266  142  92\n",
       "276  139  91\n",
       "277  139  91\n",
       "\n",
       "[189 rows x 2 columns]>"
      ]
     },
     "execution_count": 28,
     "metadata": {},
     "output_type": "execute_result"
    }
   ],
   "source": [
    "df_homens_filtrado = df_homens['Pressão sanguínea'].str.split('/', expand=True)\n",
    "df_homens_filtrado.head"
   ]
  },
  {
   "cell_type": "code",
   "execution_count": 29,
   "metadata": {},
   "outputs": [],
   "source": [
    "df_homens_filtrado.columns = ['Sistólica', 'Diastólica']"
   ]
  },
  {
   "cell_type": "code",
   "execution_count": 30,
   "metadata": {},
   "outputs": [
    {
     "data": {
      "text/html": [
       "<div>\n",
       "<style scoped>\n",
       "    .dataframe tbody tr th:only-of-type {\n",
       "        vertical-align: middle;\n",
       "    }\n",
       "\n",
       "    .dataframe tbody tr th {\n",
       "        vertical-align: top;\n",
       "    }\n",
       "\n",
       "    .dataframe thead th {\n",
       "        text-align: right;\n",
       "    }\n",
       "</style>\n",
       "<table border=\"1\" class=\"dataframe\">\n",
       "  <thead>\n",
       "    <tr style=\"text-align: right;\">\n",
       "      <th></th>\n",
       "      <th>Sistólica</th>\n",
       "      <th>Diastólica</th>\n",
       "    </tr>\n",
       "  </thead>\n",
       "  <tbody>\n",
       "    <tr>\n",
       "      <th>0</th>\n",
       "      <td>126</td>\n",
       "      <td>83</td>\n",
       "    </tr>\n",
       "    <tr>\n",
       "      <th>1</th>\n",
       "      <td>125</td>\n",
       "      <td>80</td>\n",
       "    </tr>\n",
       "    <tr>\n",
       "      <th>2</th>\n",
       "      <td>125</td>\n",
       "      <td>80</td>\n",
       "    </tr>\n",
       "    <tr>\n",
       "      <th>3</th>\n",
       "      <td>140</td>\n",
       "      <td>90</td>\n",
       "    </tr>\n",
       "    <tr>\n",
       "      <th>4</th>\n",
       "      <td>140</td>\n",
       "      <td>90</td>\n",
       "    </tr>\n",
       "    <tr>\n",
       "      <th>...</th>\n",
       "      <td>...</td>\n",
       "      <td>...</td>\n",
       "    </tr>\n",
       "    <tr>\n",
       "      <th>249</th>\n",
       "      <td>130</td>\n",
       "      <td>85</td>\n",
       "    </tr>\n",
       "    <tr>\n",
       "      <th>264</th>\n",
       "      <td>142</td>\n",
       "      <td>92</td>\n",
       "    </tr>\n",
       "    <tr>\n",
       "      <th>266</th>\n",
       "      <td>142</td>\n",
       "      <td>92</td>\n",
       "    </tr>\n",
       "    <tr>\n",
       "      <th>276</th>\n",
       "      <td>139</td>\n",
       "      <td>91</td>\n",
       "    </tr>\n",
       "    <tr>\n",
       "      <th>277</th>\n",
       "      <td>139</td>\n",
       "      <td>91</td>\n",
       "    </tr>\n",
       "  </tbody>\n",
       "</table>\n",
       "<p>189 rows × 2 columns</p>\n",
       "</div>"
      ],
      "text/plain": [
       "    Sistólica Diastólica\n",
       "0         126         83\n",
       "1         125         80\n",
       "2         125         80\n",
       "3         140         90\n",
       "4         140         90\n",
       "..        ...        ...\n",
       "249       130         85\n",
       "264       142         92\n",
       "266       142         92\n",
       "276       139         91\n",
       "277       139         91\n",
       "\n",
       "[189 rows x 2 columns]"
      ]
     },
     "execution_count": 30,
     "metadata": {},
     "output_type": "execute_result"
    }
   ],
   "source": [
    "df_homens_filtrado"
   ]
  },
  {
   "cell_type": "code",
   "execution_count": 31,
   "metadata": {},
   "outputs": [],
   "source": [
    "df_homens_filtrado['Sistólica'] = df_homens_filtrado['Sistólica'].astype(np.int64)\n",
    "df_homens_filtrado['Diastólica'] = df_homens_filtrado['Diastólica'].astype(np.int64)\n",
    "#Convertendo os tipos de string para int"
   ]
  },
  {
   "cell_type": "code",
   "execution_count": 32,
   "metadata": {},
   "outputs": [
    {
     "name": "stdout",
     "output_type": "stream",
     "text": [
      "<class 'pandas.core.frame.DataFrame'>\n",
      "Index: 189 entries, 0 to 277\n",
      "Data columns (total 2 columns):\n",
      " #   Column      Non-Null Count  Dtype\n",
      "---  ------      --------------  -----\n",
      " 0   Sistólica   189 non-null    int64\n",
      " 1   Diastólica  189 non-null    int64\n",
      "dtypes: int64(2)\n",
      "memory usage: 4.4 KB\n"
     ]
    }
   ],
   "source": [
    "df_homens_filtrado.info()\n",
    "#Verificando se a conversão foi feita"
   ]
  },
  {
   "cell_type": "code",
   "execution_count": 33,
   "metadata": {},
   "outputs": [
    {
     "data": {
      "text/plain": [
       "Sistólica     126.941799\n",
       "Diastólica     83.015873\n",
       "dtype: float64"
      ]
     },
     "execution_count": 33,
     "metadata": {},
     "output_type": "execute_result"
    }
   ],
   "source": [
    "#Média da pressão sanguínea dos homens\n",
    "df_homens_filtrado[['Sistólica', 'Diastólica']].mean()"
   ]
  },
  {
   "cell_type": "code",
   "execution_count": 34,
   "metadata": {},
   "outputs": [
    {
     "data": {
      "text/html": [
       "<div>\n",
       "<style scoped>\n",
       "    .dataframe tbody tr th:only-of-type {\n",
       "        vertical-align: middle;\n",
       "    }\n",
       "\n",
       "    .dataframe tbody tr th {\n",
       "        vertical-align: top;\n",
       "    }\n",
       "\n",
       "    .dataframe thead th {\n",
       "        text-align: right;\n",
       "    }\n",
       "</style>\n",
       "<table border=\"1\" class=\"dataframe\">\n",
       "  <thead>\n",
       "    <tr style=\"text-align: right;\">\n",
       "      <th></th>\n",
       "      <th>Identificador</th>\n",
       "      <th>Gênero</th>\n",
       "      <th>Idade</th>\n",
       "      <th>Profissão</th>\n",
       "      <th>Duração do sono</th>\n",
       "      <th>Qualidade do sono</th>\n",
       "      <th>Nível de atividade física</th>\n",
       "      <th>Nível de estresse</th>\n",
       "      <th>Categoria IMC</th>\n",
       "      <th>Pressão sanguínea</th>\n",
       "      <th>Frequência cardíaca</th>\n",
       "      <th>Passos diários</th>\n",
       "      <th>Distúrbio do sono</th>\n",
       "    </tr>\n",
       "  </thead>\n",
       "  <tbody>\n",
       "    <tr>\n",
       "      <th>16</th>\n",
       "      <td>17</td>\n",
       "      <td>Mulher</td>\n",
       "      <td>29</td>\n",
       "      <td>Enfermeiro(a)</td>\n",
       "      <td>6.5</td>\n",
       "      <td>5</td>\n",
       "      <td>40</td>\n",
       "      <td>7</td>\n",
       "      <td>Peso normal</td>\n",
       "      <td>132/87</td>\n",
       "      <td>80</td>\n",
       "      <td>4000</td>\n",
       "      <td>Apneia do sono</td>\n",
       "    </tr>\n",
       "    <tr>\n",
       "      <th>18</th>\n",
       "      <td>19</td>\n",
       "      <td>Mulher</td>\n",
       "      <td>29</td>\n",
       "      <td>Enfermeiro(a)</td>\n",
       "      <td>6.5</td>\n",
       "      <td>5</td>\n",
       "      <td>40</td>\n",
       "      <td>7</td>\n",
       "      <td>Peso normal</td>\n",
       "      <td>132/87</td>\n",
       "      <td>80</td>\n",
       "      <td>4000</td>\n",
       "      <td>Insônia</td>\n",
       "    </tr>\n",
       "    <tr>\n",
       "      <th>30</th>\n",
       "      <td>31</td>\n",
       "      <td>Mulher</td>\n",
       "      <td>30</td>\n",
       "      <td>Enfermeiro(a)</td>\n",
       "      <td>6.4</td>\n",
       "      <td>5</td>\n",
       "      <td>35</td>\n",
       "      <td>7</td>\n",
       "      <td>Peso normal</td>\n",
       "      <td>130/86</td>\n",
       "      <td>78</td>\n",
       "      <td>4100</td>\n",
       "      <td>Apneia do sono</td>\n",
       "    </tr>\n",
       "  </tbody>\n",
       "</table>\n",
       "</div>"
      ],
      "text/plain": [
       "    Identificador  Gênero  Idade      Profissão  Duração do sono  \\\n",
       "16             17  Mulher     29  Enfermeiro(a)              6.5   \n",
       "18             19  Mulher     29  Enfermeiro(a)              6.5   \n",
       "30             31  Mulher     30  Enfermeiro(a)              6.4   \n",
       "\n",
       "    Qualidade do sono  Nível de atividade física  Nível de estresse  \\\n",
       "16                  5                         40                  7   \n",
       "18                  5                         40                  7   \n",
       "30                  5                         35                  7   \n",
       "\n",
       "   Categoria IMC Pressão sanguínea  Frequência cardíaca  Passos diários  \\\n",
       "16   Peso normal            132/87                   80            4000   \n",
       "18   Peso normal            132/87                   80            4000   \n",
       "30   Peso normal            130/86                   78            4100   \n",
       "\n",
       "   Distúrbio do sono  \n",
       "16    Apneia do sono  \n",
       "18           Insônia  \n",
       "30    Apneia do sono  "
      ]
     },
     "execution_count": 34,
     "metadata": {},
     "output_type": "execute_result"
    }
   ],
   "source": [
    "#Criando uma df só com os dados das mulheres\n",
    "df_mulheres = df[df['Gênero'] == 'Mulher']\n",
    "df_mulheres.head(3)"
   ]
  },
  {
   "cell_type": "code",
   "execution_count": 35,
   "metadata": {},
   "outputs": [],
   "source": [
    "df_mulheres_filtrado = df_mulheres['Pressão sanguínea'].str.split('/', expand=True)"
   ]
  },
  {
   "cell_type": "code",
   "execution_count": 36,
   "metadata": {},
   "outputs": [],
   "source": [
    "df_mulheres_filtrado.columns = ['Sistólica', 'Diastólica']"
   ]
  },
  {
   "cell_type": "code",
   "execution_count": 37,
   "metadata": {},
   "outputs": [],
   "source": [
    "#Utilizando a biblioteca numpy para converter o tipo dos dados para int64\n",
    "df_mulheres_filtrado[['Sistólica', 'Diastólica']] = df_mulheres_filtrado[['Sistólica', 'Diastólica']].astype(np.int64)"
   ]
  },
  {
   "cell_type": "code",
   "execution_count": 38,
   "metadata": {},
   "outputs": [
    {
     "name": "stdout",
     "output_type": "stream",
     "text": [
      "<class 'pandas.core.frame.DataFrame'>\n",
      "Index: 184 entries, 16 to 372\n",
      "Data columns (total 2 columns):\n",
      " #   Column      Non-Null Count  Dtype\n",
      "---  ------      --------------  -----\n",
      " 0   Sistólica   184 non-null    int64\n",
      " 1   Diastólica  184 non-null    int64\n",
      "dtypes: int64(2)\n",
      "memory usage: 4.3 KB\n"
     ]
    }
   ],
   "source": [
    "df_mulheres_filtrado.info()"
   ]
  },
  {
   "cell_type": "code",
   "execution_count": 39,
   "metadata": {},
   "outputs": [
    {
     "data": {
      "text/plain": [
       "Sistólica     130.146739\n",
       "Diastólica     86.271739\n",
       "dtype: float64"
      ]
     },
     "execution_count": 39,
     "metadata": {},
     "output_type": "execute_result"
    }
   ],
   "source": [
    "#Cálculo da média da pressão sanguínea\n",
    "df_mulheres_filtrado[['Sistólica', 'Diastólica']].mean()"
   ]
  },
  {
   "cell_type": "markdown",
   "metadata": {},
   "source": [
    "## Passo 9\n",
    "É predominante entre os participantes dormir 8 horas por dia\n",
    "(considere usar Moda como medida)?\n",
    "\n",
    "**Resposta**: Não é predominante dormir 8 horas por dia, e sim 7,2 horas por dia."
   ]
  },
  {
   "cell_type": "code",
   "execution_count": 40,
   "metadata": {},
   "outputs": [
    {
     "data": {
      "text/plain": [
       "0    7.2\n",
       "Name: Duração do sono, dtype: float64"
      ]
     },
     "execution_count": 40,
     "metadata": {},
     "output_type": "execute_result"
    }
   ],
   "source": [
    "df['Duração do sono'].agg(pd.Series.mode)"
   ]
  },
  {
   "cell_type": "code",
   "execution_count": 41,
   "metadata": {},
   "outputs": [
    {
     "data": {
      "text/plain": [
       "Duração do sono\n",
       "7.2    9.651475\n",
       "6.0    8.310992\n",
       "7.8    7.506702\n",
       "6.5    6.970509\n",
       "6.1    6.702413\n",
       "7.7    6.434316\n",
       "6.6    5.361930\n",
       "7.1    5.093834\n",
       "7.3    3.753351\n",
       "8.4    3.753351\n",
       "8.1    3.753351\n",
       "6.3    3.485255\n",
       "8.5    3.485255\n",
       "8.0    3.485255\n",
       "6.2    3.217158\n",
       "8.2    2.949062\n",
       "7.6    2.680965\n",
       "6.4    2.412869\n",
       "7.9    1.876676\n",
       "7.4    1.340483\n",
       "6.7    1.340483\n",
       "7.5    1.340483\n",
       "6.8    1.340483\n",
       "8.3    1.340483\n",
       "5.9    1.072386\n",
       "6.9    0.804290\n",
       "5.8    0.536193\n",
       "Name: proportion, dtype: float64"
      ]
     },
     "execution_count": 41,
     "metadata": {},
     "output_type": "execute_result"
    }
   ],
   "source": [
    "#Outra forma de chegar a esse resultado\n",
    "df['Duração do sono'].value_counts(normalize=True) * 100"
   ]
  },
  {
   "cell_type": "markdown",
   "metadata": {},
   "source": [
    "## Passo 10\n",
    "Pessoas com frequências cardíacas acima de 70 dão mais passos que\n",
    "pessoas com frequência cardíaca menor ou igual a 70? (Use a média)\n",
    "\n",
    "**Resposta**: Pessoas com frequênca cardíaca menor ou igual a 70 dão mais passos por dia."
   ]
  },
  {
   "cell_type": "code",
   "execution_count": 42,
   "metadata": {},
   "outputs": [
    {
     "data": {
      "text/plain": [
       "6472.932330827068"
      ]
     },
     "execution_count": 42,
     "metadata": {},
     "output_type": "execute_result"
    }
   ],
   "source": [
    "#Calculando a média de passos de pessoas com frequência cardíaca maior que 70\n",
    "df[df['Frequência cardíaca'] > 70]['Passos diários'].mean()"
   ]
  },
  {
   "cell_type": "code",
   "execution_count": 43,
   "metadata": {},
   "outputs": [
    {
     "data": {
      "text/plain": [
       "7006.666666666667"
      ]
     },
     "execution_count": 43,
     "metadata": {},
     "output_type": "execute_result"
    }
   ],
   "source": [
    "#Calculando a média de passos de pessoas com frequência cardíaca menor ou igual a 70\n",
    "df[df['Frequência cardíaca'] <= 70]['Passos diários'].mean()"
   ]
  }
 ],
 "metadata": {
  "kernelspec": {
   "display_name": "Python 3",
   "language": "python",
   "name": "python3"
  },
  "language_info": {
   "codemirror_mode": {
    "name": "ipython",
    "version": 3
   },
   "file_extension": ".py",
   "mimetype": "text/x-python",
   "name": "python",
   "nbconvert_exporter": "python",
   "pygments_lexer": "ipython3",
   "version": "3.8.10"
  }
 },
 "nbformat": 4,
 "nbformat_minor": 2
}
